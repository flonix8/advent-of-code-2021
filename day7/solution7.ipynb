{
 "cells": [
  {
   "cell_type": "markdown",
   "metadata": {},
   "source": [
    "## Riddle 1"
   ]
  },
  {
   "cell_type": "code",
   "execution_count": 11,
   "metadata": {},
   "outputs": [
    {
     "name": "stdout",
     "output_type": "stream",
     "text": [
      "Moving all crabs to position 333 minimizes costs to 328262\n"
     ]
    }
   ],
   "source": [
    "from typing import List\n",
    "\n",
    "with open('./input7') as input:\n",
    "  crabs = [int(elem) for elem in input.readline().split(',')]\n",
    "\n",
    "sorted(crabs)\n",
    "\n",
    "def fuel_cost(crabs: List[int], target_pos: int) -> int:\n",
    "  cost = 0\n",
    "  for crab in crabs:\n",
    "    cost += abs(target_pos - crab)\n",
    "  return cost\n",
    "\n",
    "search_start = min(crabs)\n",
    "search_end = max(crabs)\n",
    "\n",
    "cost_per_target = []\n",
    "\n",
    "for i in range(search_start, search_end + 1):\n",
    "  cost_per_target.append((i, fuel_cost(crabs, i)))\n",
    "\n",
    "results = sorted(cost_per_target, key=lambda c: c[1])\n",
    "\n",
    "print(f'Moving all crabs to position {results[0][0]} minimizes costs to {results[0][1]}')"
   ]
  },
  {
   "cell_type": "markdown",
   "metadata": {},
   "source": [
    "## Riddle 2"
   ]
  },
  {
   "cell_type": "code",
   "execution_count": 13,
   "metadata": {},
   "outputs": [
    {
     "name": "stdout",
     "output_type": "stream",
     "text": [
      "Moving all crabs to position 464 minimizes costs to 90040997\n"
     ]
    }
   ],
   "source": [
    "from typing import List, Callable\n",
    "import numpy as np\n",
    "\n",
    "with open('./input7') as input:\n",
    "  crabs = [int(elem) for elem in input.readline().split(',')]\n",
    "\n",
    "sorted(crabs)\n",
    "\n",
    "def create_cost_func(max: int) -> Callable:\n",
    "  cost_ref = np.cumsum([i for i in range(max + 1)])\n",
    "  def cost_func(distance: int) -> int:\n",
    "    return cost_ref[abs(distance)]\n",
    "  return cost_func\n",
    "\n",
    "def fuel_cost(crabs: List[int], target_pos: int, cost_func: Callable) -> int:\n",
    "  cost = 0\n",
    "  for crab in crabs:\n",
    "    cost += cost_func(target_pos - crab)\n",
    "  return cost\n",
    "\n",
    "search_start = min(crabs)\n",
    "search_end = max(crabs)\n",
    "\n",
    "cost_func = create_cost_func(search_end)\n",
    "\n",
    "cost_per_target = []\n",
    "\n",
    "for i in range(search_start, search_end + 1):\n",
    "  cost_per_target.append((i, fuel_cost(crabs, i, cost_func)))\n",
    "\n",
    "results = sorted(cost_per_target, key=lambda c: c[1])\n",
    "\n",
    "print(f'Moving all crabs to position {results[0][0]} minimizes costs to {results[0][1]}')"
   ]
  }
 ],
 "metadata": {
  "interpreter": {
   "hash": "257990beb8fb855a36bcc9d0d2e0b4e1af8fe94a414cf60be56dd48f79023079"
  },
  "kernelspec": {
   "display_name": "Python 3.9.0 64-bit ('.venv': venv)",
   "language": "python",
   "name": "python3"
  },
  "language_info": {
   "codemirror_mode": {
    "name": "ipython",
    "version": 3
   },
   "file_extension": ".py",
   "mimetype": "text/x-python",
   "name": "python",
   "nbconvert_exporter": "python",
   "pygments_lexer": "ipython3",
   "version": "3.9.0"
  },
  "orig_nbformat": 4
 },
 "nbformat": 4,
 "nbformat_minor": 2
}
