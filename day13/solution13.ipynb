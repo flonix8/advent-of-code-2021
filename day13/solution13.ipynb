{
 "cells": [
  {
   "cell_type": "markdown",
   "metadata": {},
   "source": [
    "## Parse Input"
   ]
  },
  {
   "cell_type": "code",
   "execution_count": 7,
   "metadata": {},
   "outputs": [],
   "source": [
    "import re\n",
    "from collections import namedtuple\n",
    "\n",
    "Fold = namedtuple('Fold', ['direction', 'position'])\n",
    "Coord = namedtuple('Coord', ['x', 'y'])\n",
    "\n",
    "REGEX_COORD = r'^(\\d+),(\\d+)$'\n",
    "REGEX_FOLD = r'^fold along ([xy])=(\\d+)'\n",
    "\n",
    "def parse_input(input_lines):\n",
    "  coords = [\n",
    "    Coord(\n",
    "      int(re.match(REGEX_COORD, coord).group(1)),\n",
    "      int(re.match(REGEX_COORD, coord).group(2))\n",
    "    )\n",
    "    for coord in\n",
    "    filter(lambda l: re.match(REGEX_COORD, l) is not None, input_lines)\n",
    "  ]\n",
    "\n",
    "  folds = [\n",
    "    Fold(\n",
    "      re.match(REGEX_FOLD, fold).group(1),\n",
    "      int(re.match(REGEX_FOLD, fold).group(2))\n",
    "    )\n",
    "    for fold in\n",
    "    filter(lambda l: re.match(REGEX_FOLD, l) is not None, input_lines)\n",
    "  ]\n",
    "  \n",
    "  return coords, folds\n"
   ]
  },
  {
   "cell_type": "markdown",
   "metadata": {},
   "source": [
    "## Build Grid"
   ]
  },
  {
   "cell_type": "code",
   "execution_count": 8,
   "metadata": {},
   "outputs": [],
   "source": [
    "from typing import List, Tuple\n",
    "\n",
    "def set_cell(grid: List[List[bool]], x: int, y: int, value: bool):\n",
    "  grid[y][x] = value\n",
    "\n",
    "def create_grid(coord_list: List[Coord]) -> List[List[bool]]:\n",
    "  x_len = max(map(lambda c: c.x, coord_list)) + 1\n",
    "  y_len = max(map(lambda c: c.y, coord_list)) + 1\n",
    "  grid = [[False for x in range(x_len)] for y in range(y_len)]\n",
    "  for coord in coord_list:\n",
    "    set_cell(grid, coord.x, coord.y, True)\n",
    "  return grid\n",
    "\n",
    "def render_grid(grid: List[List[bool]]):\n",
    "  str_repr = ''\n",
    "  for row in grid:\n",
    "    for cell in row:\n",
    "      str_repr += '# ' if cell else '. '\n",
    "    str_repr += '\\n'\n",
    "  return str_repr\n",
    "\n"
   ]
  },
  {
   "cell_type": "code",
   "execution_count": 9,
   "metadata": {},
   "outputs": [],
   "source": [
    "from collections import Counter\n",
    "\n",
    "def or_lists(l1: List[bool], l2: List[bool]) -> List[bool]:\n",
    "  return list(map(lambda l: l[0] or l[1], zip(l1, l2)))\n",
    "\n",
    "def fold_y(grid: List[List[bool]], y_pos: int) -> List[List[bool]]:\n",
    "  new_grid = []\n",
    "  i = 1\n",
    "  while i <= y_pos:\n",
    "    new_grid.insert(0, or_lists(grid[y_pos - i], grid[y_pos + i]))\n",
    "    i += 1\n",
    "  return new_grid\n",
    "\n",
    "def fold_line(line: List[bool], x_pos: int) -> List[bool]:\n",
    "  l1 = line[:x_pos]\n",
    "  l2 = reversed(line[x_pos+1:])\n",
    "  return or_lists(l1, l2)\n",
    "\n",
    "def fold_x(grid: List[List[bool]], x_pos: int) -> List[List[bool]]:\n",
    "  new_grid = []\n",
    "  for row in grid:\n",
    "    new_grid.append(fold_line(row, x_pos))\n",
    "  return new_grid\n",
    "\n",
    "def fold(grid: List[List[bool]], fold: Fold) -> List[List[bool]]:\n",
    "  if fold.direction == 'x':\n",
    "    return fold_x(grid, fold.position)\n",
    "  elif fold.direction == 'y':\n",
    "    return fold_y(grid, fold.position)"
   ]
  },
  {
   "cell_type": "code",
   "execution_count": 10,
   "metadata": {},
   "outputs": [
    {
     "name": "stdout",
     "output_type": "stream",
     "text": [
      "Solution 1 is 664\n"
     ]
    }
   ],
   "source": [
    "with open('./input13') as input:\n",
    "  input_lines = [line.strip() for line in input.readlines()]\n",
    "\n",
    "coords, folds = parse_input(input_lines)\n",
    "\n",
    "grid = create_grid(coords)\n",
    "\n",
    "folded = fold(grid, folds[0])\n",
    "\n",
    "dot_count = Counter(sum(folded, []))[True]\n",
    "\n",
    "print(f'Solution 1 is {dot_count}')"
   ]
  },
  {
   "cell_type": "code",
   "execution_count": 11,
   "metadata": {},
   "outputs": [
    {
     "name": "stdout",
     "output_type": "stream",
     "text": [
      "# # # # . # # # # . . . # # . # . . # . # # # # . # . . . . # # # . . # . . . . \n",
      "# . . . . # . . . . . . . # . # . # . . . . . # . # . . . . # . . # . # . . . . \n",
      "# # # . . # # # . . . . . # . # # . . . . . # . . # . . . . # # # . . # . . . . \n",
      "# . . . . # . . . . . . . # . # . # . . . # . . . # . . . . # . . # . # . . . . \n",
      "# . . . . # . . . . # . . # . # . # . . # . . . . # . . . . # . . # . # . . . . \n",
      "# # # # . # . . . . . # # . . # . . # . # # # # . # # # # . # # # . . # # # # . \n",
      "\n"
     ]
    }
   ],
   "source": [
    "folded = grid\n",
    "for f in folds:\n",
    "  folded = fold(folded, f)\n",
    "\n",
    "print(render_grid(folded))"
   ]
  }
 ],
 "metadata": {
  "interpreter": {
   "hash": "257990beb8fb855a36bcc9d0d2e0b4e1af8fe94a414cf60be56dd48f79023079"
  },
  "kernelspec": {
   "display_name": "Python 3.9.0 64-bit ('.venv': venv)",
   "language": "python",
   "name": "python3"
  },
  "language_info": {
   "codemirror_mode": {
    "name": "ipython",
    "version": 3
   },
   "file_extension": ".py",
   "mimetype": "text/x-python",
   "name": "python",
   "nbconvert_exporter": "python",
   "pygments_lexer": "ipython3",
   "version": "3.9.0"
  },
  "orig_nbformat": 4
 },
 "nbformat": 4,
 "nbformat_minor": 2
}
