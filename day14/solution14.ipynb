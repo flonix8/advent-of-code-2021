{
 "cells": [
  {
   "cell_type": "code",
   "execution_count": 88,
   "metadata": {},
   "outputs": [],
   "source": [
    "import re\n",
    "from typing import List, Dict\n",
    "\n",
    "RULE_REGEX = re.compile(r'^(\\w{2}) -> (\\w)$')\n",
    "\n",
    "with open('./input14') as input:\n",
    "  template = input.readline().strip()\n",
    "  input.readline()\n",
    "  rules = [line.strip() for line in input.readlines()]\n",
    "\n",
    "def get_productions(rules: List[str]) -> Dict:\n",
    "  productions = dict()\n",
    "  for rule in rules:\n",
    "    match = re.match(RULE_REGEX, rule)\n",
    "    pair = match.group(1)\n",
    "    productions[pair] = match.group(2)\n",
    "  return productions\n",
    "\n",
    "def get_pair_map(productions: Dict) -> Dict:\n",
    "  output = dict()\n",
    "  for pair, produced_letter in productions.items():\n",
    "    triple = pair[0] + produced_letter + pair[1]\n",
    "    output[pair] = (triple[:2], triple[1:])\n",
    "  return output\n",
    "\n",
    "\n",
    "productions = get_productions(rules)\n",
    "pair_map = get_pair_map(productions)\n"
   ]
  },
  {
   "cell_type": "code",
   "execution_count": 89,
   "metadata": {},
   "outputs": [
    {
     "name": "stdout",
     "output_type": "stream",
     "text": [
      "VPPHOPVVSFSVFOCOSBKF\n",
      "Result is 2884513602164\n"
     ]
    }
   ],
   "source": [
    "from collections import Counter, defaultdict\n",
    "\n",
    "# init counter\n",
    "def get_pairs(template: str) -> List[str]:\n",
    "  pairs = []\n",
    "  i = 1\n",
    "  while i < len(template):\n",
    "    pairs.append(template[i-1:i+1])\n",
    "    i += 1\n",
    "  return pairs\n",
    "\n",
    "def clean_dict(d: Dict) -> Dict:\n",
    "  return { key: value for key, value in d.items() if value > 0}\n",
    "\n",
    "def step(pair_counter: Dict, letter_counter: Dict, productions, pair_map) -> List[Dict]:\n",
    "  next_pc = defaultdict(int)\n",
    "  next_lc = defaultdict(int, letter_counter)\n",
    "  for pair, count in pair_counter.items():\n",
    "    for p in pair_map[pair]:\n",
    "      next_pc[p] += count\n",
    "    next_lc[productions[pair]] += count\n",
    "  return next_pc, next_lc\n",
    "\n",
    "print(template)\n",
    "pc = dict(Counter(get_pairs(template)))\n",
    "lc = dict(Counter(template))\n",
    "\n",
    "for _ in range(40):\n",
    "  pc, lc = step(pc, lc, productions, pair_map)\n",
    "\n",
    "counts = sorted(lc.values())\n",
    "\n",
    "print(f'Result is {counts[-1] - counts[0]}')\n",
    "\n",
    "\n"
   ]
  },
  {
   "cell_type": "code",
   "execution_count": null,
   "metadata": {},
   "outputs": [],
   "source": []
  }
 ],
 "metadata": {
  "interpreter": {
   "hash": "257990beb8fb855a36bcc9d0d2e0b4e1af8fe94a414cf60be56dd48f79023079"
  },
  "kernelspec": {
   "display_name": "Python 3.9.0 64-bit ('.venv': venv)",
   "language": "python",
   "name": "python3"
  },
  "language_info": {
   "codemirror_mode": {
    "name": "ipython",
    "version": 3
   },
   "file_extension": ".py",
   "mimetype": "text/x-python",
   "name": "python",
   "nbconvert_exporter": "python",
   "pygments_lexer": "ipython3",
   "version": "3.8.10"
  },
  "orig_nbformat": 4
 },
 "nbformat": 4,
 "nbformat_minor": 2
}
