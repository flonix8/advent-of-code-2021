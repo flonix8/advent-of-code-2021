{
 "cells": [
  {
   "cell_type": "code",
   "execution_count": 4,
   "metadata": {},
   "outputs": [],
   "source": [
    "import re\n",
    "from typing import List, Dict\n",
    "\n",
    "RULE_REGEX = re.compile(r'^(\\w{2}) -> (\\w)$')\n",
    "\n",
    "with open('./test_input14') as input:\n",
    "  template = input.readline().strip()\n",
    "  input.readline()\n",
    "  rules = [line.strip() for line in input.readlines()]\n",
    "\n",
    "def parse_rules(rules: List[str]) -> Dict:\n",
    "  return {\n",
    "    match.group(1): match.group(2) \n",
    "    for match in \n",
    "    [re.match(RULE_REGEX, rule) for rule in rules]\n",
    "  }\n",
    "\n",
    "rule_map = parse_rules(rules)"
   ]
  },
  {
   "cell_type": "code",
   "execution_count": 9,
   "metadata": {},
   "outputs": [
    {
     "data": {
      "text/plain": [
       "'NBCCNBBBCBHCB'"
      ]
     },
     "execution_count": 9,
     "metadata": {},
     "output_type": "execute_result"
    }
   ],
   "source": [
    "def insertion_step(template: str, rules: Dict) -> str:\n",
    "  result = template[0]\n",
    "  i = 1\n",
    "  while i < len(template):\n",
    "    pair = template[i-1] + template[i]\n",
    "    if pair in rules:\n",
    "      result += rules[pair] + pair[1]\n",
    "    i += 1\n",
    "  return result\n",
    "\n",
    "insertion_step(insertion_step(template, rule_map), rule_map)"
   ]
  }
 ],
 "metadata": {
  "interpreter": {
   "hash": "257990beb8fb855a36bcc9d0d2e0b4e1af8fe94a414cf60be56dd48f79023079"
  },
  "kernelspec": {
   "display_name": "Python 3.9.0 64-bit ('.venv': venv)",
   "language": "python",
   "name": "python3"
  },
  "language_info": {
   "codemirror_mode": {
    "name": "ipython",
    "version": 3
   },
   "file_extension": ".py",
   "mimetype": "text/x-python",
   "name": "python",
   "nbconvert_exporter": "python",
   "pygments_lexer": "ipython3",
   "version": "3.9.0"
  },
  "orig_nbformat": 4
 },
 "nbformat": 4,
 "nbformat_minor": 2
}
