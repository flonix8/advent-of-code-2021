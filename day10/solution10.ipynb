{
 "cells": [
  {
   "cell_type": "code",
   "execution_count": 6,
   "metadata": {},
   "outputs": [],
   "source": [
    "opening_chars = ['(', '[', '{', '<']\n",
    "closing_chars = [')', ']', '}', '>']\n",
    "\n",
    "error_score = {\n",
    "  ')': 3,\n",
    "  ']': 57,\n",
    "  '}': 1197,\n",
    "  '>': 25137\n",
    "}\n",
    "\n",
    "def closes(opening_char, closing_char):\n",
    "  if opening_char not in opening_chars or closing_char not in closing_chars:\n",
    "    return False\n",
    "  return opening_chars.index(opening_char) == closing_chars.index(closing_char)\n",
    "\n",
    "def opens(opening_char):\n",
    "  return opening_char in opening_chars\n",
    "\n",
    "def parse_line(line: str):\n",
    "  stack = [line[0]]\n",
    "  for char in line[1:]:\n",
    "    # Stack can become empty!!\n",
    "    if closes(stack[-1], char):\n",
    "      stack.pop()\n",
    "    elif opens(char):\n",
    "      stack.append(char)\n",
    "    else:\n",
    "      return False, char\n",
    "  return True, stack\n",
    "\n",
    "def parse_line2(line: str):\n",
    "  stack = [line[0]]\n",
    "  for char in line[1:]:\n",
    "    if len(stack) > 0:\n",
    "      if closes(stack[-1], char):\n",
    "        stack.pop()\n",
    "      elif opens(char):\n",
    "        stack.append(char)\n",
    "      else:\n",
    "        return False, char\n",
    "    else:\n",
    "      # Stack is empty\n",
    "      if opens(char):\n",
    "        stack.append(char)\n",
    "      else:\n",
    "        return False, char\n",
    "  return True, stack\n",
    "    "
   ]
  },
  {
   "cell_type": "code",
   "execution_count": 4,
   "metadata": {},
   "outputs": [
    {
     "name": "stdout",
     "output_type": "stream",
     "text": [
      "True\n",
      "True\n",
      "False\n"
     ]
    }
   ],
   "source": [
    "print(closes('(', ')'))\n",
    "print(opens('('))\n",
    "print(opens(')'))"
   ]
  },
  {
   "cell_type": "code",
   "execution_count": 2,
   "metadata": {},
   "outputs": [
    {
     "data": {
      "text/plain": [
       "311949"
      ]
     },
     "execution_count": 2,
     "metadata": {},
     "output_type": "execute_result"
    }
   ],
   "source": [
    "from functools import reduce\n",
    "\n",
    "with open('./input10') as input:\n",
    "  lines = [line.strip() for line in input.readlines()]\n",
    "\n",
    "error_chars = []\n",
    "stacks = []\n",
    "\n",
    "for line in lines:\n",
    "  valid, value = parse_line(line)\n",
    "  if not valid:\n",
    "    error_chars.append(value)\n",
    "  else:\n",
    "    stacks.append(value)\n",
    "\n",
    "reduce(lambda a,b: a+b , map(lambda c: error_score[c], error_chars))"
   ]
  },
  {
   "cell_type": "code",
   "execution_count": 3,
   "metadata": {},
   "outputs": [],
   "source": [
    "from typing import List\n",
    "\n",
    "closing_char_map = {\n",
    "  '(': ')',\n",
    "  '[': ']',\n",
    "  '{': '}',\n",
    "  '<': '>'\n",
    "}\n",
    "\n",
    "completion_score = {\n",
    "  ')': 1,\n",
    "  ']': 2,\n",
    "  '}': 3,\n",
    "  '>': 4\n",
    "}\n",
    "\n",
    "def finish_stack(stack: List[str]) -> List[str]:\n",
    "  completion_chars = []\n",
    "  for char in reversed(stack):\n",
    "    completion_chars.append(closing_char_map[char])\n",
    "  return completion_chars\n",
    "\n",
    "def calc_completion_score(chars: List[str]) -> int:\n",
    "  score = 0\n",
    "  for char in chars:\n",
    "    score *= 5\n",
    "    score += completion_score[char]\n",
    "  return score\n",
    "\n"
   ]
  },
  {
   "cell_type": "code",
   "execution_count": 21,
   "metadata": {},
   "outputs": [
    {
     "name": "stdout",
     "output_type": "stream",
     "text": [
      "5566\n",
      "27832\n"
     ]
    }
   ],
   "source": [
    "print(calc_completion_score(list(')}>]})')))\n",
    "print(calc_completion_score(list(')}>]})]')))"
   ]
  },
  {
   "cell_type": "code",
   "execution_count": 9,
   "metadata": {},
   "outputs": [
    {
     "name": "stdout",
     "output_type": "stream",
     "text": [
      "['])]])>]]}}>>>}]', '})}>}>]})>)}>>', '>}>>])]>]>>)]>)', ']>])}}))]]}>)', '}))>)>])])}))}', '))>>>]}]]>))}]}', ']])]]>}}}]]}]', ')]>))}}>)}}]]>', '>>>>}})]}}]>]', '}]}))>})>}))>)}', '>>}))]]}])>', '}])}>>}})]>}', ')]})))>))>])]]}', ')>)}>)}])]})}', '])])}])]}>>}', '])}>})>}>>]]}', '>})}))]})>))>>', ']}}]}]>)}]]]}', ')))>}>>)]>]})>', '>]}))])}]>>]}', '>)]>>])}}]}>}]', '>]]]]>}}])})', '}>})]]>>}])]>}', ']>}>}]]>)]', ']]]]>))>}>}}', ')]]>)>)}]>]>>]', '}>))>>)>>]}]}>', ']]])]>)>}}]])>', '}])}}}}})>}]>)]', '}]>]>}>]>>}}}>', '])>)>]>>]}}>)', '>>)]>])>}])})]}', '))}))>}]]>])})', '>>}>>]}}]]]>)]}', ')>])}>>})]>>', '>>]}}}>}}]]})>>', ')}]>>)]))}}>]>', '>)])}>}>)}>]))}', ']}>}]]])])>}}}}', ']]})}))>}}))>]', '}>]]>>]>))>))>]', '}>))]})>>)}>>', ')>)]>])})]]>', '}]>>]]})]])>]', '})}))>>)})>})}', ']>}>)>}>>>]}}}', '>]]]}))}))]})>]']\n",
      "[14032246867, 4099427724, 29270671446, 706504721, 3997835408, 8540435213, 600761567, 1917489814, 1220180447, 21552103983, 48148559, 169527073, 9339560813, 456772833, 111989248, 575543688, 5695912049, 669364688, 1560493459, 1106042488, 5272401742, 219761541, 4799995198, 5776607, 122209243, 1849352872, 4706795444, 3042730309, 21179170982, 4374577969, 579920471, 29682397913, 1624884041, 30269023663, 92498949, 29968648549, 2098224239, 26210496533, 17016521718, 3092339547, 23827287047, 940499599, 90973939, 877942172, 4066354333, 3607343468, 27473301672]\n"
     ]
    },
    {
     "data": {
      "text/plain": [
       "3042730309"
      ]
     },
     "execution_count": 9,
     "metadata": {},
     "output_type": "execute_result"
    }
   ],
   "source": [
    "from functools import reduce\n",
    "\n",
    "with open('./input10') as input:\n",
    "  lines = [line.strip() for line in input.readlines()]\n",
    "\n",
    "error_chars = []\n",
    "stacks = []\n",
    "\n",
    "for line in lines:\n",
    "  valid, value = parse_line2(line)\n",
    "  if not valid:\n",
    "    error_chars.append(value)\n",
    "  else:\n",
    "    stacks.append(value)\n",
    "\n",
    "completions = [finish_stack(stack) for stack in stacks]\n",
    "print(list(map(lambda c: \"\".join(c), completions)))\n",
    "\n",
    "scores = [calc_completion_score(completion) for completion in completions]\n",
    "print(scores)\n",
    "\n",
    "sorted(scores)[(len(scores)-1)//2]"
   ]
  }
 ],
 "metadata": {
  "interpreter": {
   "hash": "257990beb8fb855a36bcc9d0d2e0b4e1af8fe94a414cf60be56dd48f79023079"
  },
  "kernelspec": {
   "display_name": "Python 3.9.0 64-bit ('.venv': venv)",
   "language": "python",
   "name": "python3"
  },
  "language_info": {
   "codemirror_mode": {
    "name": "ipython",
    "version": 3
   },
   "file_extension": ".py",
   "mimetype": "text/x-python",
   "name": "python",
   "nbconvert_exporter": "python",
   "pygments_lexer": "ipython3",
   "version": "3.9.0"
  },
  "orig_nbformat": 4
 },
 "nbformat": 4,
 "nbformat_minor": 2
}
