{
 "cells": [
  {
   "cell_type": "code",
   "execution_count": 7,
   "metadata": {},
   "outputs": [],
   "source": [
    "opening_chars = ['(', '[', '{', '<']\n",
    "closing_chars = [')', ']', '}', '>']\n",
    "\n",
    "error_score = {\n",
    "  ')': 3,\n",
    "  ']': 57,\n",
    "  '}': 1197,\n",
    "  '>': 25137\n",
    "}\n",
    "\n",
    "def closes(opening_char, closing_char):\n",
    "  if opening_char not in opening_chars or closing_char not in closing_chars:\n",
    "    return False\n",
    "  return opening_chars.index(opening_char) == closing_chars.index(closing_char)\n",
    "\n",
    "def opens(opening_char):\n",
    "  return opening_char in opening_chars\n",
    "\n",
    "def parse_line(line: str):\n",
    "  stack = [line[0]]\n",
    "  for char in line[1:]:\n",
    "    # Stack can become empty!!\n",
    "    if closes(stack[-1], char):\n",
    "      stack.pop()\n",
    "    elif opens(char):\n",
    "      stack.append(char)\n",
    "    else:\n",
    "      return False, char\n",
    "  return True, stack"
   ]
  },
  {
   "cell_type": "code",
   "execution_count": 4,
   "metadata": {},
   "outputs": [
    {
     "name": "stdout",
     "output_type": "stream",
     "text": [
      "True\n",
      "True\n",
      "False\n"
     ]
    }
   ],
   "source": [
    "print(closes('(', ')'))\n",
    "print(opens('('))\n",
    "print(opens(')'))"
   ]
  },
  {
   "cell_type": "code",
   "execution_count": 8,
   "metadata": {},
   "outputs": [
    {
     "data": {
      "text/plain": [
       "311949"
      ]
     },
     "execution_count": 8,
     "metadata": {},
     "output_type": "execute_result"
    }
   ],
   "source": [
    "from functools import reduce\n",
    "\n",
    "with open('./input10') as input:\n",
    "  lines = [line.strip() for line in input.readlines()]\n",
    "\n",
    "error_chars = []\n",
    "stacks = []\n",
    "\n",
    "for line in lines:\n",
    "  valid, value = parse_line(line)\n",
    "  if not valid:\n",
    "    error_chars.append(value)\n",
    "  else:\n",
    "    stacks.append(value)\n",
    "\n",
    "reduce(lambda a,b: a+b , map(lambda c: error_score[c], error_chars))"
   ]
  },
  {
   "cell_type": "code",
   "execution_count": 3,
   "metadata": {},
   "outputs": [],
   "source": [
    "from typing import List\n",
    "\n",
    "closing_char_map = {\n",
    "  '(': ')',\n",
    "  '[': ']',\n",
    "  '{': '}',\n",
    "  '<': '>'\n",
    "}\n",
    "\n",
    "completion_score = {\n",
    "  ')': 1,\n",
    "  ']': 2,\n",
    "  '}': 3,\n",
    "  '>': 4\n",
    "}\n",
    "\n",
    "def finish_stack(stack: List[str]) -> List[str]:\n",
    "  completion_chars = []\n",
    "  for char in reversed(stack):\n",
    "    completion_chars.append(closing_char_map[char])\n",
    "  return completion_chars\n",
    "\n",
    "def calc_completion_score(chars: List[str]) -> int:\n",
    "  score = 0\n",
    "  for char in chars:\n",
    "    score *= 5\n",
    "    score += completion_score[char]\n",
    "  return score\n",
    "\n"
   ]
  },
  {
   "cell_type": "code",
   "execution_count": 21,
   "metadata": {},
   "outputs": [
    {
     "name": "stdout",
     "output_type": "stream",
     "text": [
      "5566\n",
      "27832\n"
     ]
    }
   ],
   "source": [
    "print(calc_completion_score(list(')}>]})')))\n",
    "print(calc_completion_score(list(')}>]})]')))"
   ]
  },
  {
   "cell_type": "code",
   "execution_count": 4,
   "metadata": {},
   "outputs": [
    {
     "ename": "IndexError",
     "evalue": "list index out of range",
     "output_type": "error",
     "traceback": [
      "\u001b[0;31m---------------------------------------------------------------------------\u001b[0m",
      "\u001b[0;31mIndexError\u001b[0m                                Traceback (most recent call last)",
      "\u001b[0;32m/tmp/ipykernel_23130/569649215.py\u001b[0m in \u001b[0;36m<module>\u001b[0;34m\u001b[0m\n\u001b[1;32m      8\u001b[0m \u001b[0;34m\u001b[0m\u001b[0m\n\u001b[1;32m      9\u001b[0m \u001b[0;32mfor\u001b[0m \u001b[0mline\u001b[0m \u001b[0;32min\u001b[0m \u001b[0mlines\u001b[0m\u001b[0;34m:\u001b[0m\u001b[0;34m\u001b[0m\u001b[0;34m\u001b[0m\u001b[0m\n\u001b[0;32m---> 10\u001b[0;31m   \u001b[0mvalid\u001b[0m\u001b[0;34m,\u001b[0m \u001b[0mvalue\u001b[0m \u001b[0;34m=\u001b[0m \u001b[0mparse_line\u001b[0m\u001b[0;34m(\u001b[0m\u001b[0mline\u001b[0m\u001b[0;34m)\u001b[0m\u001b[0;34m\u001b[0m\u001b[0;34m\u001b[0m\u001b[0m\n\u001b[0m\u001b[1;32m     11\u001b[0m   \u001b[0;32mif\u001b[0m \u001b[0;32mnot\u001b[0m \u001b[0mvalid\u001b[0m\u001b[0;34m:\u001b[0m\u001b[0;34m\u001b[0m\u001b[0;34m\u001b[0m\u001b[0m\n\u001b[1;32m     12\u001b[0m     \u001b[0merror_chars\u001b[0m\u001b[0;34m.\u001b[0m\u001b[0mappend\u001b[0m\u001b[0;34m(\u001b[0m\u001b[0mvalue\u001b[0m\u001b[0;34m)\u001b[0m\u001b[0;34m\u001b[0m\u001b[0;34m\u001b[0m\u001b[0m\n",
      "\u001b[0;32m/tmp/ipykernel_23130/3841206888.py\u001b[0m in \u001b[0;36mparse_line\u001b[0;34m(line)\u001b[0m\n\u001b[1;32m     23\u001b[0m     \u001b[0;32mif\u001b[0m \u001b[0mlen\u001b[0m\u001b[0;34m(\u001b[0m\u001b[0mstack\u001b[0m\u001b[0;34m)\u001b[0m \u001b[0;34m==\u001b[0m \u001b[0;36m0\u001b[0m \u001b[0;32mand\u001b[0m \u001b[0;32mnot\u001b[0m \u001b[0mopens\u001b[0m\u001b[0;34m(\u001b[0m\u001b[0mchar\u001b[0m\u001b[0;34m)\u001b[0m\u001b[0;34m:\u001b[0m\u001b[0;34m\u001b[0m\u001b[0;34m\u001b[0m\u001b[0m\n\u001b[1;32m     24\u001b[0m       \u001b[0;32mreturn\u001b[0m \u001b[0;32mFalse\u001b[0m\u001b[0;34m,\u001b[0m \u001b[0mchar\u001b[0m\u001b[0;34m\u001b[0m\u001b[0;34m\u001b[0m\u001b[0m\n\u001b[0;32m---> 25\u001b[0;31m     \u001b[0;32mif\u001b[0m \u001b[0mcloses\u001b[0m\u001b[0;34m(\u001b[0m\u001b[0mstack\u001b[0m\u001b[0;34m[\u001b[0m\u001b[0;34m-\u001b[0m\u001b[0;36m1\u001b[0m\u001b[0;34m]\u001b[0m\u001b[0;34m,\u001b[0m \u001b[0mchar\u001b[0m\u001b[0;34m)\u001b[0m\u001b[0;34m:\u001b[0m\u001b[0;34m\u001b[0m\u001b[0;34m\u001b[0m\u001b[0m\n\u001b[0m\u001b[1;32m     26\u001b[0m       \u001b[0mstack\u001b[0m\u001b[0;34m.\u001b[0m\u001b[0mpop\u001b[0m\u001b[0;34m(\u001b[0m\u001b[0;34m)\u001b[0m\u001b[0;34m\u001b[0m\u001b[0;34m\u001b[0m\u001b[0m\n\u001b[1;32m     27\u001b[0m     \u001b[0;32melif\u001b[0m \u001b[0mopens\u001b[0m\u001b[0;34m(\u001b[0m\u001b[0mchar\u001b[0m\u001b[0;34m)\u001b[0m\u001b[0;34m:\u001b[0m\u001b[0;34m\u001b[0m\u001b[0;34m\u001b[0m\u001b[0m\n",
      "\u001b[0;31mIndexError\u001b[0m: list index out of range"
     ]
    }
   ],
   "source": [
    "from functools import reduce\n",
    "\n",
    "with open('./test_input10') as input:\n",
    "  lines = [line.strip() for line in input.readlines()]\n",
    "\n",
    "error_chars = []\n",
    "stacks = []\n",
    "\n",
    "for line in lines:\n",
    "  valid, value = parse_line(line)\n",
    "  if not valid:\n",
    "    error_chars.append(value)\n",
    "  else:\n",
    "    stacks.append(value)\n",
    "\n",
    "completions = [finish_stack(stack) for stack in stacks]\n",
    "print(list(map(lambda c: \"\".join(c), completions)))\n",
    "\n",
    "scores = [calc_completion_score(completion) for completion in completions]\n",
    "print(scores)\n",
    "\n",
    "scores[(len(scores)-1)//2]"
   ]
  }
 ],
 "metadata": {
  "interpreter": {
   "hash": "257990beb8fb855a36bcc9d0d2e0b4e1af8fe94a414cf60be56dd48f79023079"
  },
  "kernelspec": {
   "display_name": "Python 3.9.0 64-bit ('.venv': venv)",
   "language": "python",
   "name": "python3"
  },
  "language_info": {
   "codemirror_mode": {
    "name": "ipython",
    "version": 3
   },
   "file_extension": ".py",
   "mimetype": "text/x-python",
   "name": "python",
   "nbconvert_exporter": "python",
   "pygments_lexer": "ipython3",
   "version": "3.9.0"
  },
  "orig_nbformat": 4
 },
 "nbformat": 4,
 "nbformat_minor": 2
}
