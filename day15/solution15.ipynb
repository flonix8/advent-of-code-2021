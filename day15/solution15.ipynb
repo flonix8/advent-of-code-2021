{
 "cells": [
  {
   "cell_type": "code",
   "execution_count": 49,
   "metadata": {},
   "outputs": [],
   "source": [
    "from typing import List\n",
    "import numpy as np\n",
    "\n",
    "def increase_grid_risk(grid: List[List[int]]) -> List[List[int]]:\n",
    "  new_grid = []\n",
    "  for row in grid:\n",
    "    new_row = []\n",
    "    for cell in row:\n",
    "      new_cell = cell + 1 if cell + 1 < 10 else 1\n",
    "      new_row.append(new_cell)\n",
    "    new_grid.append(new_row)\n",
    "  return new_grid\n",
    "\n",
    "def extend_grid(grid: List[List[int]]) -> List[List[int]]:\n",
    "  np_grid = np.array(grid)\n",
    "  inc_grid = grid\n",
    "  for _ in range(4):\n",
    "    inc_grid = increase_grid_risk(inc_grid)\n",
    "    np_grid = np.vstack((np_grid, np.array(inc_grid)))\n",
    "  inc_grid = np_grid.tolist()\n",
    "  for _ in range(4):\n",
    "    inc_grid = increase_grid_risk(inc_grid)\n",
    "    np_grid = np.hstack((np_grid, inc_grid))\n",
    "  return np_grid.tolist()\n",
    "\n"
   ]
  },
  {
   "cell_type": "code",
   "execution_count": 51,
   "metadata": {},
   "outputs": [
    {
     "data": {
      "text/plain": [
       "2935"
      ]
     },
     "execution_count": 51,
     "metadata": {},
     "output_type": "execute_result"
    }
   ],
   "source": [
    "from collections import namedtuple\n",
    "import networkx as nx\n",
    "from networkx.algorithms.shortest_paths import astar_path\n",
    "from functools import reduce\n",
    "\n",
    "node = namedtuple('node', ['x', 'y'])\n",
    "\n",
    "with open('./input15') as input:\n",
    "  grid = [[int(cell) for cell in line.strip()] for line in input.readlines()]\n",
    "\n",
    "grid = extend_grid(grid)\n",
    "\n",
    "g = nx.DiGraph()\n",
    "\n",
    "x_len = len(grid[0])\n",
    "y_len = len(grid)\n",
    "for y, row in enumerate(grid):\n",
    "  for x, cell in enumerate(row):\n",
    "    this_node = node(x, y)\n",
    "    if x < x_len - 1:\n",
    "      g.add_edge(this_node, node(x+1, y), cost=grid[y][x+1])\n",
    "    if y < y_len - 1:\n",
    "      g.add_edge(this_node, node(x, y+1), cost=grid[y+1][x])\n",
    "    if x > 0:\n",
    "      g.add_edge(this_node, node(x-1, y), cost=grid[y][x-1])\n",
    "    if y > 0:\n",
    "      g.add_edge(this_node, node(x, y-1), cost=grid[y-1][x])\n",
    "\n",
    "shortest_path = astar_path(g, node(0,0), node(x_len-1,y_len-1), weight='cost')\n",
    "\n",
    "risk = 0\n",
    "i = 1 \n",
    "while i < len(shortest_path):\n",
    "  risk += g.edges[shortest_path[i-1], shortest_path[i]]['cost']\n",
    "  i += 1\n",
    "\n",
    "risk"
   ]
  }
 ],
 "metadata": {
  "interpreter": {
   "hash": "257990beb8fb855a36bcc9d0d2e0b4e1af8fe94a414cf60be56dd48f79023079"
  },
  "kernelspec": {
   "display_name": "Python 3.9.0 64-bit ('.venv': venv)",
   "language": "python",
   "name": "python3"
  },
  "language_info": {
   "codemirror_mode": {
    "name": "ipython",
    "version": 3
   },
   "file_extension": ".py",
   "mimetype": "text/x-python",
   "name": "python",
   "nbconvert_exporter": "python",
   "pygments_lexer": "ipython3",
   "version": "3.9.0"
  },
  "orig_nbformat": 4
 },
 "nbformat": 4,
 "nbformat_minor": 2
}
