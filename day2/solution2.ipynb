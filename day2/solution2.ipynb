{
 "cells": [
  {
   "cell_type": "markdown",
   "metadata": {},
   "source": [
    "## Part 1"
   ]
  },
  {
   "cell_type": "code",
   "execution_count": 7,
   "metadata": {},
   "outputs": [
    {
     "name": "stdout",
     "output_type": "stream",
     "text": [
      "We traveled 1927 far and reached a depth of 1091\n",
      "The solution is 2102357\n"
     ]
    }
   ],
   "source": [
    "with open(\"input2\") as input:\n",
    "  commands = [[line.split()[0], int(line.split()[1])] for line in input.readlines()]\n",
    "\n",
    "sums = {}\n",
    "\n",
    "for command, value in commands:\n",
    "  if command not in sums:\n",
    "    sums[command] = 0\n",
    "  sums[command] += value\n",
    "\n",
    "end_depth = sums['down'] - sums['up']\n",
    "end_pos = sums['forward']\n",
    "\n",
    "print(f'We traveled {end_pos} far and reached a depth of {end_depth}')\n",
    "print(f'The solution is {end_depth*end_pos}')"
   ]
  },
  {
   "cell_type": "markdown",
   "metadata": {},
   "source": [
    "## Part2"
   ]
  },
  {
   "cell_type": "code",
   "execution_count": 9,
   "metadata": {},
   "outputs": [
    {
     "name": "stdout",
     "output_type": "stream",
     "text": [
      "We ended up in position 1927 and depth 1090312\n",
      "The solution is 2101031224\n"
     ]
    }
   ],
   "source": [
    "with open(\"input2\") as input:\n",
    "  commands = [[line.split()[0], int(line.split()[1])] for line in input.readlines()]\n",
    "\n",
    "pos = 0\n",
    "depth = 0\n",
    "aim = 0\n",
    "\n",
    "for command, value in commands:\n",
    "  if command == 'down':\n",
    "    aim += value\n",
    "  elif command == 'up':\n",
    "    aim -= value\n",
    "  elif command == 'forward':\n",
    "    pos += value\n",
    "    depth += value * aim\n",
    "\n",
    "print(f'We ended up in position {pos} and depth {depth}')\n",
    "print(f'The solution is {pos*depth}')"
   ]
  }
 ],
 "metadata": {
  "interpreter": {
   "hash": "1938d02b59340716bd89e666442d1e02af295ec4ec05b17241a8adc675700528"
  },
  "kernelspec": {
   "display_name": "Python 3.9.0 64-bit ('.venv': venv)",
   "name": "python3"
  },
  "language_info": {
   "codemirror_mode": {
    "name": "ipython",
    "version": 3
   },
   "file_extension": ".py",
   "mimetype": "text/x-python",
   "name": "python",
   "nbconvert_exporter": "python",
   "pygments_lexer": "ipython3",
   "version": "3.9.0"
  },
  "orig_nbformat": 4
 },
 "nbformat": 4,
 "nbformat_minor": 2
}
