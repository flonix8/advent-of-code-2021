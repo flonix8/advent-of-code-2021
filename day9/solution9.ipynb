{
 "cells": [
  {
   "cell_type": "code",
   "execution_count": 9,
   "metadata": {},
   "outputs": [],
   "source": [
    "from typing import List\n",
    "\n",
    "class Cell:\n",
    "  def __init__(self, x, y, height) -> None:\n",
    "    self.x = x\n",
    "    self.y = y\n",
    "    self.height = height\n",
    "  def __repr__(self) -> str:\n",
    "    return f'{self.height}'\n",
    "\n",
    "class HeightMap:\n",
    "  def __init__(self, cell_grid: List[List[int]]) -> None:\n",
    "    self.cell_grid = []\n",
    "    for y, row in enumerate(cell_grid):\n",
    "      cell_row = []\n",
    "      for x, height in enumerate(row):\n",
    "        cell_row.append(Cell(x, y, height))\n",
    "      self.cell_grid.append(cell_row)\n",
    "    self.height = len(self.cell_grid)\n",
    "    self.width = len(self.cell_grid[0])\n",
    "\n",
    "  def find_low_points(self) -> List[Cell]:\n",
    "    low_points = []\n",
    "    for cell in self.get_all_cells():\n",
    "      if self.is_low_point(cell, self.get_neighbors(cell)):\n",
    "        low_points.append(cell)\n",
    "    return low_points\n",
    "\n",
    "  def find_basin(self, low_point: Cell) -> List[Cell]:\n",
    "    pass\n",
    "\n",
    "  def find_uphill_neighbors(self, cell: Cell) -> List[Cell]:\n",
    "    uphill_neighbors = []\n",
    "    for neighbor in self.get_neighbors(cell):\n",
    "      if neighbor.height > cell and neighbor.height < 9:\n",
    "        self\n",
    "        uphill_neighbors.append(self.find_uphill_neighbors(neighbor))\n",
    "\n",
    "      \n",
    "  def is_low_point(self, cell: Cell, neighbors: List[Cell]) -> bool:\n",
    "    return all(map(lambda n: n.height > cell.height, neighbors))\n",
    "\n",
    "  def get_neighbors(self, cell: Cell) -> List[Cell]:\n",
    "    neighbors = []\n",
    "    if cell.x > 0:\n",
    "      neighbors.append(self.get_cell(cell.x - 1, cell.y))\n",
    "    if cell.x < self.width - 1:\n",
    "      neighbors.append(self.get_cell(cell.x + 1, cell.y))\n",
    "    if cell.y > 0:\n",
    "      neighbors.append(self.get_cell(cell.x, cell.y - 1))\n",
    "    if cell.y < self.height - 1:\n",
    "      neighbors.append(self.get_cell(cell.x, cell.y + 1))\n",
    "    return neighbors\n",
    "\n",
    "  def get_all_cells(self) -> List[Cell]:\n",
    "    return sum(self.cell_grid, [])\n",
    "\n",
    "  def get_cell(self, x, y) -> Cell:\n",
    "    return self.cell_grid[y][x]\n",
    "\n",
    "  def __repr__(self) -> str:\n",
    "    repr_str = ''\n",
    "    for row in self.cell_grid:\n",
    "      for cell in row:\n",
    "        repr_str += f'{cell}'\n",
    "      repr_str += '\\n'\n",
    "    return repr_str\n",
    "\n"
   ]
  },
  {
   "cell_type": "code",
   "execution_count": 12,
   "metadata": {},
   "outputs": [
    {
     "name": "stdout",
     "output_type": "stream",
     "text": [
      "Risk level sum of low points: 491\n"
     ]
    }
   ],
   "source": [
    "with open('./input9') as input:\n",
    "  grid = [[int(cell) for cell in line.strip()] for line in input.readlines()]\n",
    "\n",
    "low_points = HeightMap(grid).find_low_points()\n",
    "\n",
    "risk_sum = sum(map(lambda c: c.height + 1, low_points))\n",
    "\n",
    "print(f'Risk level sum of low points: {risk_sum}')"
   ]
  }
 ],
 "metadata": {
  "interpreter": {
   "hash": "257990beb8fb855a36bcc9d0d2e0b4e1af8fe94a414cf60be56dd48f79023079"
  },
  "kernelspec": {
   "display_name": "Python 3.9.0 64-bit ('.venv': venv)",
   "language": "python",
   "name": "python3"
  },
  "language_info": {
   "codemirror_mode": {
    "name": "ipython",
    "version": 3
   },
   "file_extension": ".py",
   "mimetype": "text/x-python",
   "name": "python",
   "nbconvert_exporter": "python",
   "pygments_lexer": "ipython3",
   "version": "3.9.0"
  },
  "orig_nbformat": 4
 },
 "nbformat": 4,
 "nbformat_minor": 2
}
