{
 "cells": [
  {
   "cell_type": "markdown",
   "metadata": {},
   "source": [
    "## Riddle 1"
   ]
  },
  {
   "cell_type": "code",
   "execution_count": 8,
   "metadata": {},
   "outputs": [
    {
     "name": "stdout",
     "output_type": "stream",
     "text": [
      "2 1 2 1 . \n",
      "1 . . . . \n",
      "1 . . . . \n",
      "1 . . . . \n",
      "1 . . . . \n",
      "\n"
     ]
    },
    {
     "data": {
      "text/plain": [
       "[(0, 0), (0, 2)]"
      ]
     },
     "execution_count": 8,
     "metadata": {},
     "output_type": "execute_result"
    }
   ],
   "source": [
    "from collections import Counter\n",
    "from typing import List\n",
    "\n",
    "class Cell:\n",
    "  def __init__(self, x, y):\n",
    "    self.marker_count = 0\n",
    "    self.x = x\n",
    "    self.y = y\n",
    "  @property\n",
    "  def pos(self) -> tuple:\n",
    "    return (self.x, self.y)\n",
    "  def is_marked(self) -> bool:\n",
    "    return self.marker_count != 0\n",
    "  def add_marker(self) -> 'Cell':\n",
    "    self.marker_count += 1\n",
    "    return self\n",
    "  def __repr__(self) -> str:\n",
    "    if not self.is_marked():\n",
    "      return '.'\n",
    "    else:\n",
    "      return f'{self.marker_count}'\n",
    "\n",
    "class Map:\n",
    "  def __init__(self, height, width):\n",
    "    self.grid = [[Cell(x, y) for y in range(width)] for x in range(height)]\n",
    "  def __repr__(self) -> str:\n",
    "    repr_str = ''\n",
    "    for row in self.grid:\n",
    "      for cell in row:\n",
    "        repr_str += f'{cell} '\n",
    "      repr_str += '\\n'\n",
    "    return repr_str\n",
    "  def mark_line(self, x1, y1, x2, y2) -> 'Map':\n",
    "    # Horizontal line\n",
    "    if x1 == x2:\n",
    "      lower = min((y1, y2))\n",
    "      upper = max((y1, y2))\n",
    "      for y in range(lower, upper + 1):\n",
    "        self.mark_cell(x1, y)\n",
    "    # Vertical line\n",
    "    elif y1 == y2:\n",
    "      lower = min((x1, x2))\n",
    "      upper = max((x1, x2))\n",
    "      for x in range(lower, upper + 1):\n",
    "        self.mark_cell(x, y1)\n",
    "    return self\n",
    "  def mark_cell(self, x, y) -> 'Map':\n",
    "    self.grid[x][y].add_marker()\n",
    "    return self\n",
    "  def get_all_cells(self) -> List[Cell]:\n",
    "    return sum(self.grid, [])\n",
    "  def get_overlaps(self) -> List[Cell]:\n",
    "    return list(filter(lambda c: c.marker_count > 1, self.get_all_cells()))\n",
    "\n",
    "map_ = Map(5,5).mark_line(0,0,0,3).mark_line(0,0,4,0).mark_cell(0,2)\n",
    "print(map_)\n",
    "list(map(lambda c: c.pos, map_.get_overlaps()))"
   ]
  }
 ],
 "metadata": {
  "interpreter": {
   "hash": "1938d02b59340716bd89e666442d1e02af295ec4ec05b17241a8adc675700528"
  },
  "kernelspec": {
   "display_name": "Python 3.9.0 64-bit ('.venv': venv)",
   "name": "python3"
  },
  "language_info": {
   "codemirror_mode": {
    "name": "ipython",
    "version": 3
   },
   "file_extension": ".py",
   "mimetype": "text/x-python",
   "name": "python",
   "nbconvert_exporter": "python",
   "pygments_lexer": "ipython3",
   "version": "3.9.0"
  },
  "orig_nbformat": 4
 },
 "nbformat": 4,
 "nbformat_minor": 2
}
