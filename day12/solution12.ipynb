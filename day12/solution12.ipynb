{
 "cells": [
  {
   "cell_type": "code",
   "execution_count": 13,
   "metadata": {},
   "outputs": [],
   "source": [
    "from typing import List\n",
    "from enum import Enum\n",
    "\n",
    "class NodeType(Enum):\n",
    "  START = 0\n",
    "  END = 1\n",
    "  SMALL = 2\n",
    "  BIG = 3\n",
    "\n",
    "  @classmethod\n",
    "  def from_name(cls, name: str) -> 'NodeType':\n",
    "    if name == 'start':\n",
    "      return cls.START\n",
    "    if name == 'end':\n",
    "      return cls.END\n",
    "    if name.islower():\n",
    "      return cls.SMALL\n",
    "    if name.isupper():\n",
    "      return cls.BIG\n",
    "\n",
    "class Node:\n",
    "  def __init__(self, name: str) -> None:\n",
    "    self.name = name\n",
    "    self.linked_nodes = set()\n",
    "    self.type = NodeType.from_name(name)\n",
    "\n",
    "  def add_link(self, node: 'Node') -> None:\n",
    "    self.linked_nodes.add(node)\n",
    "\n",
    "  \n",
    "\n"
   ]
  },
  {
   "cell_type": "code",
   "execution_count": 11,
   "metadata": {},
   "outputs": [
    {
     "name": "stdout",
     "output_type": "stream",
     "text": [
      "start A\n",
      "start b\n",
      "A c\n",
      "A b\n",
      "b d\n",
      "A end\n",
      "b end\n"
     ]
    }
   ],
   "source": [
    "from typing import Tuple\n",
    "\n",
    "with open('./test_input12') as input:\n",
    "  lines = [line.strip() for line in input.readlines()]\n",
    "\n",
    "def sort_names(name1, name2) -> Tuple:\n",
    "  if name1 in ('start', 'end'):\n",
    "    return name1, name2\n",
    "  if name2 in ('start', 'end'):\n",
    "    return name2, name1\n",
    "  return name1, name2\n",
    "\n",
    "for line in lines:\n",
    "  name_a, name_b = sort_names(line.split('-'))\n",
    "  # Check special cases ('start', 'end')\n",
    "  if name_a == 'start':\n",
    "    start = Node(name_a)\n",
    "    b = Node(name_b)\n",
    "    start.add_link(b)\n",
    "  elif name_a == 'end':\n",
    "    end = Node(name_a)\n",
    "    b = Node(name_b)\n",
    "    b.add_link(end)\n",
    "  else:\n",
    "    a = Node(name_a)\n",
    "    b = Node(name_b)\n",
    "    a.add_link(b)\n",
    "    b.add_link(a)\n",
    "  "
   ]
  }
 ],
 "metadata": {
  "interpreter": {
   "hash": "355d9ef0bada23aaf89bb4fb13673f7bd6c54d506894f542a436d309008b8d9c"
  },
  "kernelspec": {
   "display_name": "Python 3.9.0 64-bit ('3.9.0': pyenv)",
   "language": "python",
   "name": "python3"
  },
  "language_info": {
   "codemirror_mode": {
    "name": "ipython",
    "version": 3
   },
   "file_extension": ".py",
   "mimetype": "text/x-python",
   "name": "python",
   "nbconvert_exporter": "python",
   "pygments_lexer": "ipython3",
   "version": "3.9.0"
  },
  "orig_nbformat": 4
 },
 "nbformat": 4,
 "nbformat_minor": 2
}
