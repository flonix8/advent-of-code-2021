{
 "cells": [
  {
   "cell_type": "code",
   "execution_count": 1,
   "metadata": {},
   "outputs": [],
   "source": [
    "from termcolor import colored\n",
    "from typing import List \n",
    "\n",
    "class Octopus:\n",
    "  def __init__(self, x: int, y: int, initial_energy: int) -> None:\n",
    "    self.has_flashed = False\n",
    "    self.energy_level = initial_energy\n",
    "    self.x = x\n",
    "    self.y = y\n",
    "  \n",
    "  def increase_energy(self) -> None:\n",
    "    if self.has_flashed:\n",
    "      assert self.energy_level == 0, 'Invalid state!'\n",
    "      self.has_flashed = False\n",
    "    self.energy_level += 1\n",
    "    if self.energy_level > 9:\n",
    "      self.energy_level = 0 \n",
    "      self.has_flashed = True\n",
    "\n",
    "  def __str__(self) -> str:\n",
    "    if self.has_flashed:\n",
    "      return f'{colored(str(self.energy_level), \"yellow\")}'\n",
    "    else:\n",
    "      return f'{self.energy_level}'\n",
    "\n",
    "  def __repr__(self) -> str:\n",
    "    return f'{self.__class__.__name__}(x={self.x},y={self.y},energy_level={self.energy_level},has_flashed={self.has_flashed})'\n",
    "\n",
    "\n",
    "class Field:\n",
    "  def __init__(self, octopus_grid: List[Octopus]) -> None:\n",
    "    self.grid = octopus_grid\n",
    "\n",
    "  def __str__(self) -> str:\n",
    "    str_repr = ''\n",
    "    for line in self.grid:\n",
    "      for octopus in line:\n",
    "        str_repr += str(octopus)\n",
    "      str_repr += '\\n'\n",
    "    return str_repr\n",
    "\n",
    "  @classmethod\n",
    "  def from_input_lines(cls, lines: List[str]) -> 'Field':\n",
    "    octopus_grid = []\n",
    "    for y, line in enumerate(lines):\n",
    "      octopus_line = []\n",
    "      for x, value in enumerate(line):\n",
    "        octopus_line.append(Octopus(x, y, int(value)))\n",
    "      octopus_grid.append(octopus_line)\n",
    "    return Field(octopus_grid)\n",
    "\n",
    "      "
   ]
  },
  {
   "cell_type": "code",
   "execution_count": 5,
   "metadata": {},
   "outputs": [
    {
     "ename": "AttributeError",
     "evalue": "type object 'Octopus' has no attribute 'from_input_lines'",
     "output_type": "error",
     "traceback": [
      "\u001b[0;31m---------------------------------------------------------------------------\u001b[0m",
      "\u001b[0;31mAttributeError\u001b[0m                            Traceback (most recent call last)",
      "\u001b[0;32m/tmp/ipykernel_27662/622266547.py\u001b[0m in \u001b[0;36m<module>\u001b[0;34m\u001b[0m\n\u001b[1;32m      2\u001b[0m   \u001b[0mlines\u001b[0m \u001b[0;34m=\u001b[0m \u001b[0;34m[\u001b[0m\u001b[0mline\u001b[0m\u001b[0;34m.\u001b[0m\u001b[0mstrip\u001b[0m\u001b[0;34m(\u001b[0m\u001b[0;34m)\u001b[0m \u001b[0;32mfor\u001b[0m \u001b[0mline\u001b[0m \u001b[0;32min\u001b[0m \u001b[0minput\u001b[0m\u001b[0;34m.\u001b[0m\u001b[0mreadlines\u001b[0m\u001b[0;34m(\u001b[0m\u001b[0;34m)\u001b[0m\u001b[0;34m]\u001b[0m\u001b[0;34m\u001b[0m\u001b[0;34m\u001b[0m\u001b[0m\n\u001b[1;32m      3\u001b[0m \u001b[0;34m\u001b[0m\u001b[0m\n\u001b[0;32m----> 4\u001b[0;31m \u001b[0mOctopus\u001b[0m\u001b[0;34m.\u001b[0m\u001b[0mfrom_input_lines\u001b[0m\u001b[0;34m(\u001b[0m\u001b[0mlines\u001b[0m\u001b[0;34m)\u001b[0m\u001b[0;34m\u001b[0m\u001b[0;34m\u001b[0m\u001b[0m\n\u001b[0m",
      "\u001b[0;31mAttributeError\u001b[0m: type object 'Octopus' has no attribute 'from_input_lines'"
     ]
    }
   ],
   "source": [
    "with open('./small_test_input11') as input:\n",
    "  lines = [line.strip() for line in input.readlines()]\n",
    "\n",
    "Octopus.from_input_lines(lines)"
   ]
  }
 ],
 "metadata": {
  "interpreter": {
   "hash": "257990beb8fb855a36bcc9d0d2e0b4e1af8fe94a414cf60be56dd48f79023079"
  },
  "kernelspec": {
   "display_name": "Python 3.9.0 64-bit ('.venv': venv)",
   "language": "python",
   "name": "python3"
  },
  "language_info": {
   "codemirror_mode": {
    "name": "ipython",
    "version": 3
   },
   "file_extension": ".py",
   "mimetype": "text/x-python",
   "name": "python",
   "nbconvert_exporter": "python",
   "pygments_lexer": "ipython3",
   "version": "3.9.0"
  },
  "orig_nbformat": 4
 },
 "nbformat": 4,
 "nbformat_minor": 2
}
