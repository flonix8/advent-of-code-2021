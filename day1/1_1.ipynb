{
    "cells": [
        {
            "cell_type": "code",
            "execution_count": 8,
            "metadata": {},
            "outputs": [
                {
                    "name": "stdout",
                    "output_type": "stream",
                    "text": [
                        "Depth increased 1655 times.\n"
                    ]
                }
            ],
            "source": [
                "with open(\"input1\") as input:\n",
                "  measurements = [int(line.strip()) for line in input.readlines()]\n",
                "\n",
                "increase_count = 0\n",
                "\n",
                "for i in range(len(measurements) - 1):\n",
                "  if measurements[i] < measurements[i+1]:\n",
                "    increase_count += 1\n",
                "\n",
                "print(f'Depth increased {increase_count} times.')\n",
                "\n"
            ]
        }
    ],
    "metadata": {
        "interpreter": {
            "hash": "1938d02b59340716bd89e666442d1e02af295ec4ec05b17241a8adc675700528"
        },
        "kernelspec": {
            "display_name": "Python 3.9.0 64-bit ('.venv': venv)",
            "name": "python3"
        },
        "language_info": {
            "codemirror_mode": {
                "name": "ipython",
                "version": 3
            },
            "file_extension": ".py",
            "mimetype": "text/x-python",
            "name": "python",
            "nbconvert_exporter": "python",
            "pygments_lexer": "ipython3",
            "version": "3.9.0"
        },
        "orig_nbformat": 4
    },
    "nbformat": 4,
    "nbformat_minor": 2
}
