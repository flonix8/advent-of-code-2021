{
    "cells": [
        {
            "cell_type": "code",
            "execution_count": 13,
            "metadata": {},
            "outputs": [
                {
                    "name": "stdout",
                    "output_type": "stream",
                    "text": [
                        "Sliding window depth increased 1683 times.\n"
                    ]
                }
            ],
            "source": [
                "with open(\"input1_1\") as input:\n",
                "  measurements = [int(line.strip()) for line in input.readlines()]\n",
                "\n",
                "def sliding_window(elements, idx):\n",
                "  return sum(elements[idx:idx+3])\n",
                "\n",
                "increase_count = 0\n",
                "\n",
                "for i in range(len(measurements) - 1):\n",
                "  if sliding_window(measurements, i) < sliding_window(measurements, i+1):\n",
                "    increase_count += 1\n",
                "\n",
                "print(f'Sliding window depth increased {increase_count} times.')\n"
            ]
        }
    ],
    "metadata": {
        "interpreter": {
            "hash": "1938d02b59340716bd89e666442d1e02af295ec4ec05b17241a8adc675700528"
        },
        "kernelspec": {
            "display_name": "Python 3.9.0 64-bit ('.venv': venv)",
            "name": "python3"
        },
        "language_info": {
            "codemirror_mode": {
                "name": "ipython",
                "version": 3
            },
            "file_extension": ".py",
            "mimetype": "text/x-python",
            "name": "python",
            "nbconvert_exporter": "python",
            "pygments_lexer": "ipython3",
            "version": "3.9.0"
        },
        "orig_nbformat": 4
    },
    "nbformat": 4,
    "nbformat_minor": 2
}
